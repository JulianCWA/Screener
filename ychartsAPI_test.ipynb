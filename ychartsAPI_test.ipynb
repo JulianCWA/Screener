{
 "cells": [
  {
   "cell_type": "code",
   "execution_count": 9,
   "id": "ac8b2e65-c0b7-443f-89c0-0068e08b565c",
   "metadata": {},
   "outputs": [
    {
     "name": "stdout",
     "output_type": "stream",
     "text": [
      "✅ API Call Successful\n",
      "{\"response\": {\"VTV\": {\"meta\": {\"status\": \"ok\"}, \"results\": {\"monthly_return\": {\"meta\": {\"status\": \"ok\"}, \"\": {\"results\": [\"2024-12-31\", -0.069115], \"meta\": {\"status\": \"ok\", \"ttl\": 14400}}}}}}, \"meta\": {\"url\": \"https://api.ycharts.com/v3/excel/points\", \"status\": \"ok\"}}\n"
     ]
    }
   ],
   "source": [
    "import requests\n",
    "\n",
    "# YCharts API Endpoint\n",
    "api_url = \"https://api.ycharts.com/v3/excel/points\"\n",
    "\n",
    "# Headers copied from Fiddler\n",
    "headers = {\n",
    "    \"X-YCHARTSAUTHORIZATION\": \"yIIphqbsQysnTvWWxfW33w\",  # Your API Key\n",
    "    \"X-YCHARTSEXCELSESSION\": \"b645cd897b2446bfa3796acfa3a879db\",  # Session token from Excel\n",
    "    \"X-YCHARTSEXCELVERSION\": \"4.4\",  # Excel plugin version\n",
    "    \"X-YCHARTSOPERATINGSYSTEM\": \"Microsoft Windows NT 10.0.26100.0\",  # Windows version\n",
    "    \"X-YCHARTSIP\": \"50.58.50.123\",  # Public IP address\n",
    "    \"Content-Type\": \"application/x-www-form-urlencoded\",\n",
    "    \"Host\": \"api.ycharts.com\",\n",
    "    \"Expect\": \"100-continue\",\n",
    "    \"Connection\": \"Keep-Alive\"\n",
    "}\n",
    "\n",
    "# Data formatted as form data (NOT JSON)\n",
    "payload = {\n",
    "    \"points\": \"VTV,monthly_return\"\n",
    "}\n",
    "\n",
    "# Make the API request\n",
    "response = requests.post(api_url, headers=headers, data=payload)\n",
    "\n",
    "# Check response\n",
    "if response.status_code == 200:\n",
    "    print(\"✅ API Call Successful\")\n",
    "    print(response.text)  # Print raw response (since it's not JSON)\n",
    "else:\n",
    "    print(f\"❌ API Call Failed - Status Code {response.status_code}\")\n",
    "    print(response.text)  # Print error message\n"
   ]
  },
  {
   "cell_type": "code",
   "execution_count": null,
   "id": "c600a8a3-2188-4ccc-8b55-05162158cb23",
   "metadata": {},
   "outputs": [],
   "source": []
  },
  {
   "cell_type": "code",
   "execution_count": null,
   "id": "f9d93ec3-16c0-4423-ab74-5782b7291955",
   "metadata": {},
   "outputs": [],
   "source": []
  },
  {
   "cell_type": "code",
   "execution_count": null,
   "id": "ec3820df-c458-4326-b2bf-cb934773e74a",
   "metadata": {},
   "outputs": [],
   "source": []
  },
  {
   "cell_type": "code",
   "execution_count": null,
   "id": "23b6df7e-3629-4d5a-b913-1edf00b9f241",
   "metadata": {},
   "outputs": [],
   "source": []
  },
  {
   "cell_type": "code",
   "execution_count": null,
   "id": "9d6c9c52-29a7-45b0-9c01-f8e6470b430f",
   "metadata": {},
   "outputs": [],
   "source": []
  },
  {
   "cell_type": "code",
   "execution_count": null,
   "id": "28a66332-79bd-4316-84c3-1b14a76a24ec",
   "metadata": {},
   "outputs": [],
   "source": []
  },
  {
   "cell_type": "code",
   "execution_count": null,
   "id": "1745954d-c982-4648-b70a-d2696a9661f8",
   "metadata": {},
   "outputs": [],
   "source": []
  },
  {
   "cell_type": "code",
   "execution_count": null,
   "id": "dd4ebd21-fe5a-4f25-884b-b2f5f3f2d585",
   "metadata": {},
   "outputs": [],
   "source": []
  },
  {
   "cell_type": "code",
   "execution_count": null,
   "id": "a1d1d6cb-5242-40da-af8c-efed04a8872d",
   "metadata": {},
   "outputs": [],
   "source": []
  }
 ],
 "metadata": {
  "kernelspec": {
   "display_name": "Python 3 (ipykernel)",
   "language": "python",
   "name": "python3"
  },
  "language_info": {
   "codemirror_mode": {
    "name": "ipython",
    "version": 3
   },
   "file_extension": ".py",
   "mimetype": "text/x-python",
   "name": "python",
   "nbconvert_exporter": "python",
   "pygments_lexer": "ipython3",
   "version": "3.12.7"
  }
 },
 "nbformat": 4,
 "nbformat_minor": 5
}
